{
 "cells": [
  {
   "cell_type": "markdown",
   "metadata": {},
   "source": [
    "## Exercise 3\n",
    "### JSON in Python\n",
    "+ Student ID: 20465106\n",
    "+ Name: Chen Xiaoqi"
   ]
  },
  {
   "cell_type": "code",
   "execution_count": 64,
   "metadata": {},
   "outputs": [],
   "source": [
    "import json\n",
    "import pandas as pd\n",
    "import numpy as np\n",
    "from pandas.io.json import json_normalize "
   ]
  },
  {
   "cell_type": "code",
   "execution_count": 65,
   "metadata": {},
   "outputs": [],
   "source": [
    "with open('../data/20180101a.json') as json_data:\n",
    "    tweet = json.load(json_data)"
   ]
  },
  {
   "cell_type": "code",
   "execution_count": 66,
   "metadata": {},
   "outputs": [],
   "source": [
    "#print(tweet)"
   ]
  },
  {
   "cell_type": "code",
   "execution_count": 67,
   "metadata": {},
   "outputs": [
    {
     "name": "stdout",
     "output_type": "stream",
     "text": [
      "<class 'dict'>\n"
     ]
    }
   ],
   "source": [
    "print(type(tweet))"
   ]
  },
  {
   "cell_type": "code",
   "execution_count": 68,
   "metadata": {},
   "outputs": [
    {
     "name": "stdout",
     "output_type": "stream",
     "text": [
      "created_at <class 'str'>\n",
      "id <class 'int'>\n",
      "id_str <class 'str'>\n",
      "text <class 'str'>\n",
      "display_text_range <class 'list'>\n",
      "source <class 'str'>\n",
      "truncated <class 'bool'>\n",
      "in_reply_to_status_id <class 'int'>\n",
      "in_reply_to_status_id_str <class 'str'>\n",
      "in_reply_to_user_id <class 'int'>\n",
      "in_reply_to_user_id_str <class 'str'>\n",
      "in_reply_to_screen_name <class 'str'>\n",
      "user <class 'dict'>\n",
      "geo <class 'NoneType'>\n",
      "coordinates <class 'NoneType'>\n",
      "place <class 'NoneType'>\n",
      "contributors <class 'NoneType'>\n",
      "is_quote_status <class 'bool'>\n",
      "extended_tweet <class 'dict'>\n",
      "quote_count <class 'int'>\n",
      "reply_count <class 'int'>\n",
      "retweet_count <class 'int'>\n",
      "favorite_count <class 'int'>\n",
      "entities <class 'dict'>\n",
      "favorited <class 'bool'>\n",
      "retweeted <class 'bool'>\n",
      "possibly_sensitive <class 'bool'>\n",
      "filter_level <class 'str'>\n",
      "lang <class 'str'>\n",
      "timestamp_ms <class 'str'>\n"
     ]
    }
   ],
   "source": [
    "for key in tweet:\n",
    "    print(key,type(tweet[key]))"
   ]
  },
  {
   "cell_type": "code",
   "execution_count": 69,
   "metadata": {},
   "outputs": [
    {
     "data": {
      "text/html": [
       "<div>\n",
       "<style scoped>\n",
       "    .dataframe tbody tr th:only-of-type {\n",
       "        vertical-align: middle;\n",
       "    }\n",
       "\n",
       "    .dataframe tbody tr th {\n",
       "        vertical-align: top;\n",
       "    }\n",
       "\n",
       "    .dataframe thead th {\n",
       "        text-align: right;\n",
       "    }\n",
       "</style>\n",
       "<table border=\"1\" class=\"dataframe\">\n",
       "  <thead>\n",
       "    <tr style=\"text-align: right;\">\n",
       "      <th></th>\n",
       "      <th>created_at</th>\n",
       "      <th>id</th>\n",
       "      <th>id_str</th>\n",
       "      <th>text</th>\n",
       "      <th>display_text_range</th>\n",
       "      <th>source</th>\n",
       "      <th>truncated</th>\n",
       "      <th>in_reply_to_status_id</th>\n",
       "      <th>in_reply_to_status_id_str</th>\n",
       "      <th>in_reply_to_user_id</th>\n",
       "      <th>...</th>\n",
       "      <th>extended_tweet.entities.hashtags</th>\n",
       "      <th>extended_tweet.entities.urls</th>\n",
       "      <th>extended_tweet.entities.user_mentions</th>\n",
       "      <th>extended_tweet.entities.symbols</th>\n",
       "      <th>extended_tweet.entities.media</th>\n",
       "      <th>extended_tweet.extended_entities.media</th>\n",
       "      <th>entities.hashtags</th>\n",
       "      <th>entities.urls</th>\n",
       "      <th>entities.user_mentions</th>\n",
       "      <th>entities.symbols</th>\n",
       "    </tr>\n",
       "  </thead>\n",
       "  <tbody>\n",
       "    <tr>\n",
       "      <th>0</th>\n",
       "      <td>Mon Jan 01 00:28:53 +0000 2018</td>\n",
       "      <td>947625642291376128</td>\n",
       "      <td>947625642291376128</td>\n",
       "      <td>Why does data journalist @maloym support @latg...</td>\n",
       "      <td>[0, 140]</td>\n",
       "      <td>&lt;a href=\"http://twitter.com/download/iphone\" r...</td>\n",
       "      <td>True</td>\n",
       "      <td>947554925927587841</td>\n",
       "      <td>947554925927587841</td>\n",
       "      <td>859504635773464576</td>\n",
       "      <td>...</td>\n",
       "      <td>[]</td>\n",
       "      <td>[]</td>\n",
       "      <td>[{'screen_name': 'maloym', 'name': 'Maloy Moor...</td>\n",
       "      <td>[]</td>\n",
       "      <td>[{'id': 947625636423598080, 'id_str': '9476256...</td>\n",
       "      <td>[{'id': 947625636423598080, 'id_str': '9476256...</td>\n",
       "      <td>[]</td>\n",
       "      <td>[{'url': 'https://t.co/yDUAJtAqxr', 'expanded_...</td>\n",
       "      <td>[{'screen_name': 'maloym', 'name': 'Maloy Moor...</td>\n",
       "      <td>[]</td>\n",
       "    </tr>\n",
       "  </tbody>\n",
       "</table>\n",
       "<p>1 rows × 78 columns</p>\n",
       "</div>"
      ],
      "text/plain": [
       "                       created_at                  id              id_str  \\\n",
       "0  Mon Jan 01 00:28:53 +0000 2018  947625642291376128  947625642291376128   \n",
       "\n",
       "                                                text display_text_range  \\\n",
       "0  Why does data journalist @maloym support @latg...           [0, 140]   \n",
       "\n",
       "                                              source  truncated  \\\n",
       "0  <a href=\"http://twitter.com/download/iphone\" r...       True   \n",
       "\n",
       "   in_reply_to_status_id in_reply_to_status_id_str  in_reply_to_user_id  ...  \\\n",
       "0     947554925927587841        947554925927587841   859504635773464576  ...   \n",
       "\n",
       "  extended_tweet.entities.hashtags extended_tweet.entities.urls  \\\n",
       "0                               []                           []   \n",
       "\n",
       "               extended_tweet.entities.user_mentions  \\\n",
       "0  [{'screen_name': 'maloym', 'name': 'Maloy Moor...   \n",
       "\n",
       "  extended_tweet.entities.symbols  \\\n",
       "0                              []   \n",
       "\n",
       "                       extended_tweet.entities.media  \\\n",
       "0  [{'id': 947625636423598080, 'id_str': '9476256...   \n",
       "\n",
       "              extended_tweet.extended_entities.media  entities.hashtags  \\\n",
       "0  [{'id': 947625636423598080, 'id_str': '9476256...                 []   \n",
       "\n",
       "                                       entities.urls  \\\n",
       "0  [{'url': 'https://t.co/yDUAJtAqxr', 'expanded_...   \n",
       "\n",
       "                              entities.user_mentions  entities.symbols  \n",
       "0  [{'screen_name': 'maloym', 'name': 'Maloy Moor...                []  \n",
       "\n",
       "[1 rows x 78 columns]"
      ]
     },
     "execution_count": 69,
     "metadata": {},
     "output_type": "execute_result"
    }
   ],
   "source": [
    "df=pd.json_normalize(tweet)\n",
    "df"
   ]
  },
  {
   "cell_type": "markdown",
   "metadata": {},
   "source": [
    "I saw the nested dic. by formatting the JSON file, and I parsed the nested dict. into a table"
   ]
  },
  {
   "cell_type": "code",
   "execution_count": 70,
   "metadata": {},
   "outputs": [
    {
     "data": {
      "text/html": [
       "<div>\n",
       "<style scoped>\n",
       "    .dataframe tbody tr th:only-of-type {\n",
       "        vertical-align: middle;\n",
       "    }\n",
       "\n",
       "    .dataframe tbody tr th {\n",
       "        vertical-align: top;\n",
       "    }\n",
       "\n",
       "    .dataframe thead th {\n",
       "        text-align: right;\n",
       "    }\n",
       "</style>\n",
       "<table border=\"1\" class=\"dataframe\">\n",
       "  <thead>\n",
       "    <tr style=\"text-align: right;\">\n",
       "      <th></th>\n",
       "      <th>screen_name</th>\n",
       "      <th>name</th>\n",
       "      <th>id</th>\n",
       "      <th>id_str</th>\n",
       "      <th>indices</th>\n",
       "    </tr>\n",
       "  </thead>\n",
       "  <tbody>\n",
       "    <tr>\n",
       "      <th>0</th>\n",
       "      <td>maloym</td>\n",
       "      <td>Maloy Moore</td>\n",
       "      <td>247293595</td>\n",
       "      <td>247293595</td>\n",
       "      <td>[25, 32]</td>\n",
       "    </tr>\n",
       "    <tr>\n",
       "      <th>1</th>\n",
       "      <td>latguild</td>\n",
       "      <td>L.A. Times Guild 🦅</td>\n",
       "      <td>859504635773464576</td>\n",
       "      <td>859504635773464576</td>\n",
       "      <td>[41, 50]</td>\n",
       "    </tr>\n",
       "  </tbody>\n",
       "</table>\n",
       "</div>"
      ],
      "text/plain": [
       "  screen_name                name                  id              id_str  \\\n",
       "0      maloym         Maloy Moore           247293595           247293595   \n",
       "1    latguild  L.A. Times Guild 🦅  859504635773464576  859504635773464576   \n",
       "\n",
       "    indices  \n",
       "0  [25, 32]  \n",
       "1  [41, 50]  "
      ]
     },
     "execution_count": 70,
     "metadata": {},
     "output_type": "execute_result"
    }
   ],
   "source": [
    "table1 = pd.json_normalize(tweet, record_path = ['extended_tweet','entities','user_mentions'])\n",
    "table1"
   ]
  },
  {
   "cell_type": "code",
   "execution_count": 71,
   "metadata": {},
   "outputs": [
    {
     "data": {
      "text/html": [
       "<div>\n",
       "<style scoped>\n",
       "    .dataframe tbody tr th:only-of-type {\n",
       "        vertical-align: middle;\n",
       "    }\n",
       "\n",
       "    .dataframe tbody tr th {\n",
       "        vertical-align: top;\n",
       "    }\n",
       "\n",
       "    .dataframe thead th {\n",
       "        text-align: right;\n",
       "    }\n",
       "</style>\n",
       "<table border=\"1\" class=\"dataframe\">\n",
       "  <thead>\n",
       "    <tr style=\"text-align: right;\">\n",
       "      <th></th>\n",
       "      <th>id</th>\n",
       "      <th>id_str</th>\n",
       "      <th>indices</th>\n",
       "      <th>media_url</th>\n",
       "      <th>media_url_https</th>\n",
       "      <th>url</th>\n",
       "      <th>display_url</th>\n",
       "      <th>expanded_url</th>\n",
       "      <th>type</th>\n",
       "      <th>sizes.large.w</th>\n",
       "      <th>...</th>\n",
       "      <th>sizes.large.resize</th>\n",
       "      <th>sizes.thumb.w</th>\n",
       "      <th>sizes.thumb.h</th>\n",
       "      <th>sizes.thumb.resize</th>\n",
       "      <th>sizes.medium.w</th>\n",
       "      <th>sizes.medium.h</th>\n",
       "      <th>sizes.medium.resize</th>\n",
       "      <th>sizes.small.w</th>\n",
       "      <th>sizes.small.h</th>\n",
       "      <th>sizes.small.resize</th>\n",
       "    </tr>\n",
       "  </thead>\n",
       "  <tbody>\n",
       "    <tr>\n",
       "      <th>0</th>\n",
       "      <td>947625636423598080</td>\n",
       "      <td>947625636423598080</td>\n",
       "      <td>[181, 204]</td>\n",
       "      <td>http://pbs.twimg.com/media/DSakft8VAAAvHjx.jpg</td>\n",
       "      <td>https://pbs.twimg.com/media/DSakft8VAAAvHjx.jpg</td>\n",
       "      <td>https://t.co/5fVINtWn2Q</td>\n",
       "      <td>pic.twitter.com/5fVINtWn2Q</td>\n",
       "      <td>https://twitter.com/latguild/status/9476256422...</td>\n",
       "      <td>photo</td>\n",
       "      <td>1334</td>\n",
       "      <td>...</td>\n",
       "      <td>fit</td>\n",
       "      <td>150</td>\n",
       "      <td>150</td>\n",
       "      <td>crop</td>\n",
       "      <td>1200</td>\n",
       "      <td>900</td>\n",
       "      <td>fit</td>\n",
       "      <td>680</td>\n",
       "      <td>510</td>\n",
       "      <td>fit</td>\n",
       "    </tr>\n",
       "  </tbody>\n",
       "</table>\n",
       "<p>1 rows × 21 columns</p>\n",
       "</div>"
      ],
      "text/plain": [
       "                   id              id_str     indices  \\\n",
       "0  947625636423598080  947625636423598080  [181, 204]   \n",
       "\n",
       "                                        media_url  \\\n",
       "0  http://pbs.twimg.com/media/DSakft8VAAAvHjx.jpg   \n",
       "\n",
       "                                   media_url_https                      url  \\\n",
       "0  https://pbs.twimg.com/media/DSakft8VAAAvHjx.jpg  https://t.co/5fVINtWn2Q   \n",
       "\n",
       "                  display_url  \\\n",
       "0  pic.twitter.com/5fVINtWn2Q   \n",
       "\n",
       "                                        expanded_url   type  sizes.large.w  \\\n",
       "0  https://twitter.com/latguild/status/9476256422...  photo           1334   \n",
       "\n",
       "   ...  sizes.large.resize sizes.thumb.w  sizes.thumb.h  sizes.thumb.resize  \\\n",
       "0  ...                 fit           150            150                crop   \n",
       "\n",
       "  sizes.medium.w  sizes.medium.h  sizes.medium.resize sizes.small.w  \\\n",
       "0           1200             900                  fit           680   \n",
       "\n",
       "   sizes.small.h  sizes.small.resize  \n",
       "0            510                 fit  \n",
       "\n",
       "[1 rows x 21 columns]"
      ]
     },
     "execution_count": 71,
     "metadata": {},
     "output_type": "execute_result"
    }
   ],
   "source": [
    "media = pd.json_normalize(tweet,record_path=['extended_tweet','extended_entities','media'])\n",
    "media"
   ]
  },
  {
   "cell_type": "code",
   "execution_count": 72,
   "metadata": {},
   "outputs": [
    {
     "data": {
      "text/html": [
       "<div>\n",
       "<style scoped>\n",
       "    .dataframe tbody tr th:only-of-type {\n",
       "        vertical-align: middle;\n",
       "    }\n",
       "\n",
       "    .dataframe tbody tr th {\n",
       "        vertical-align: top;\n",
       "    }\n",
       "\n",
       "    .dataframe thead th {\n",
       "        text-align: right;\n",
       "    }\n",
       "</style>\n",
       "<table border=\"1\" class=\"dataframe\">\n",
       "  <thead>\n",
       "    <tr style=\"text-align: right;\">\n",
       "      <th></th>\n",
       "      <th>url</th>\n",
       "      <th>expanded_url</th>\n",
       "      <th>display_url</th>\n",
       "      <th>indices</th>\n",
       "    </tr>\n",
       "  </thead>\n",
       "  <tbody>\n",
       "    <tr>\n",
       "      <th>0</th>\n",
       "      <td>https://t.co/yDUAJtAqxr</td>\n",
       "      <td>https://twitter.com/i/web/status/9476256422913...</td>\n",
       "      <td>twitter.com/i/web/status/9…</td>\n",
       "      <td>[117, 140]</td>\n",
       "    </tr>\n",
       "  </tbody>\n",
       "</table>\n",
       "</div>"
      ],
      "text/plain": [
       "                       url                                       expanded_url  \\\n",
       "0  https://t.co/yDUAJtAqxr  https://twitter.com/i/web/status/9476256422913...   \n",
       "\n",
       "                   display_url     indices  \n",
       "0  twitter.com/i/web/status/9…  [117, 140]  "
      ]
     },
     "execution_count": 72,
     "metadata": {},
     "output_type": "execute_result"
    }
   ],
   "source": [
    "urls = pd.json_normalize(tweet, record_path = ['entities', 'urls'])\n",
    "urls"
   ]
  },
  {
   "cell_type": "code",
   "execution_count": null,
   "metadata": {},
   "outputs": [],
   "source": []
  },
  {
   "cell_type": "code",
   "execution_count": null,
   "metadata": {},
   "outputs": [],
   "source": []
  }
 ],
 "metadata": {
  "kernelspec": {
   "display_name": "Python 3",
   "language": "python",
   "name": "python3"
  },
  "language_info": {
   "codemirror_mode": {
    "name": "ipython",
    "version": 3
   },
   "file_extension": ".py",
   "mimetype": "text/x-python",
   "name": "python",
   "nbconvert_exporter": "python",
   "pygments_lexer": "ipython3",
   "version": "3.8.3"
  }
 },
 "nbformat": 4,
 "nbformat_minor": 4
}
